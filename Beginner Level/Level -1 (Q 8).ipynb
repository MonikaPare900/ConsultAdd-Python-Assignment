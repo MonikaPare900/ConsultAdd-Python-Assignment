{
 "cells": [
  {
   "cell_type": "code",
   "execution_count": 3,
   "metadata": {},
   "outputs": [
    {
     "name": "stdout",
     "output_type": "stream",
     "text": [
      "Enter num1 : 12\n",
      "Enter num2 : 14\n",
      "84\n"
     ]
    }
   ],
   "source": [
    "#LCM\n",
    "num1 = int(input(\"Enter num1 : \"))\n",
    "num2 = int(input(\"Enter num2 : \"))\n",
    "def maxlcm(num1,num2):\n",
    "    if num1>num2:\n",
    "        maxnum =num1\n",
    "    else:\n",
    "        maxnum=num2\n",
    "    while(True):\n",
    "        if maxnum % num1 ==0 and maxnum % num2 ==0:\n",
    "            break\n",
    "        maxnum+=1\n",
    "    print(maxnum)\n",
    "maxlcm(num1,num2)"
   ]
  },
  {
   "cell_type": "code",
   "execution_count": null,
   "metadata": {},
   "outputs": [],
   "source": []
  }
 ],
 "metadata": {
  "kernelspec": {
   "display_name": "Python 3",
   "language": "python",
   "name": "python3"
  },
  "language_info": {
   "codemirror_mode": {
    "name": "ipython",
    "version": 3
   },
   "file_extension": ".py",
   "mimetype": "text/x-python",
   "name": "python",
   "nbconvert_exporter": "python",
   "pygments_lexer": "ipython3",
   "version": "3.8.3"
  }
 },
 "nbformat": 4,
 "nbformat_minor": 4
}
