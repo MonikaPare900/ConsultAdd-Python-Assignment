{
 "cells": [
  {
   "cell_type": "code",
   "execution_count": null,
   "metadata": {},
   "outputs": [],
   "source": []
  },
  {
   "cell_type": "code",
   "execution_count": 2,
   "metadata": {},
   "outputs": [
    {
     "name": "stdout",
     "output_type": "stream",
     "text": [
      "1234\n",
      "4\n",
      "4\n",
      "123\n",
      "3\n",
      "43\n",
      "12\n",
      "2\n",
      "432\n",
      "1\n",
      "1\n",
      "4321\n",
      "Reversed Number: 4321\n"
     ]
    }
   ],
   "source": [
    "# Reverse the digit\n",
    "num = 1234\n",
    "reversed_num = 0\n",
    "\n",
    "while num > 0:\n",
    "    print(num)\n",
    "    \n",
    "    digit = num % 10\n",
    "    print(digit)\n",
    "    reversed_num = reversed_num * 10 + digit\n",
    "    print(reversed_num)\n",
    "    num //= 10\n",
    "\n",
    "print(\"Reversed Number: \" + str(reversed_num))"
   ]
  },
  {
   "cell_type": "code",
   "execution_count": null,
   "metadata": {},
   "outputs": [],
   "source": []
  }
 ],
 "metadata": {
  "kernelspec": {
   "display_name": "Python 3",
   "language": "python",
   "name": "python3"
  },
  "language_info": {
   "codemirror_mode": {
    "name": "ipython",
    "version": 3
   },
   "file_extension": ".py",
   "mimetype": "text/x-python",
   "name": "python",
   "nbconvert_exporter": "python",
   "pygments_lexer": "ipython3",
   "version": "3.8.3"
  }
 },
 "nbformat": 4,
 "nbformat_minor": 4
}
