{
 "cells": [
  {
   "cell_type": "code",
   "execution_count": 12,
   "metadata": {},
   "outputs": [
    {
     "name": "stdout",
     "output_type": "stream",
     "text": [
      "Enter words separated by spaces: Hello, World! Welcome to Python programming.\n",
      "['Hello,', 'World!', 'Welcome', 'to', 'Python', 'programming.']\n",
      "programming. Python to Welcome World! Hello,\n"
     ]
    }
   ],
   "source": [
    "#Reverse the Sentesnce\n",
    "Input_sentence= input(\"Enter words separated by spaces: \")\n",
    "string_list = Input_sentence.split()\n",
    "print(string_list)\n",
    "def reverse_list(string_list):\n",
    "    output_list = string_list[::-1]\n",
    "    output_sentence =\" \".join(output_list)\n",
    "    print(output_sentence)\n",
    "reverse_list(string_list)\n"
   ]
  },
  {
   "cell_type": "code",
   "execution_count": null,
   "metadata": {},
   "outputs": [],
   "source": []
  }
 ],
 "metadata": {
  "kernelspec": {
   "display_name": "Python 3",
   "language": "python",
   "name": "python3"
  },
  "language_info": {
   "codemirror_mode": {
    "name": "ipython",
    "version": 3
   },
   "file_extension": ".py",
   "mimetype": "text/x-python",
   "name": "python",
   "nbconvert_exporter": "python",
   "pygments_lexer": "ipython3",
   "version": "3.8.3"
  }
 },
 "nbformat": 4,
 "nbformat_minor": 4
}
