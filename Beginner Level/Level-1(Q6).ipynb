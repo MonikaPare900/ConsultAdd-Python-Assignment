{
 "cells": [
  {
   "cell_type": "markdown",
   "metadata": {},
   "source": [
    "6. Write a Python program to check if a given number is a perfect\n",
    "   number.\n",
    "   A Perfect number is a positive integer that is equal to the sum of\n",
    "   its proper divisors. For instance, 6 has divisors 1, 2, and 3, and 1 + 2 +\n",
    "   3 = 6, so 6 is a perfect number.\n",
    "   Input: 5\n",
    "   Output: No\n"
   ]
  },
  {
   "cell_type": "code",
   "execution_count": 43,
   "metadata": {},
   "outputs": [
    {
     "name": "stdout",
     "output_type": "stream",
     "text": [
      "9\n",
      " factors are [1, 3]\n",
      " No, Its not a Perfect Number\n"
     ]
    },
    {
     "data": {
      "text/plain": [
       "4"
      ]
     },
     "execution_count": 43,
     "metadata": {},
     "output_type": "execute_result"
    }
   ],
   "source": [
    "n=int(input())\n",
    "def is_perfect(n):\n",
    "    l = []\n",
    "    result = []\n",
    "    for i in range(1,n):\n",
    "        if n % i == 0:\n",
    "            l.append(i)\n",
    "    print(f\" factors are {l}\")\n",
    "    sum = 0\n",
    "    \n",
    "    for j in l:\n",
    "        sum+=j\n",
    "       \n",
    "   \n",
    "    if sum == n:\n",
    "        print(f\" {n} is a Perfect Number \")\n",
    "    else:\n",
    "        print(f\" No, Its not a Perfect Number\")\n",
    "            \n",
    "    return(sum)\n",
    "        \n",
    "            \n",
    "                \n",
    "        \n",
    "        \n",
    "    \n",
    "            \n",
    "        \n",
    "is_perfect(n)"
   ]
  },
  {
   "cell_type": "code",
   "execution_count": null,
   "metadata": {},
   "outputs": [],
   "source": []
  }
 ],
 "metadata": {
  "kernelspec": {
   "display_name": "Python 3",
   "language": "python",
   "name": "python3"
  },
  "language_info": {
   "codemirror_mode": {
    "name": "ipython",
    "version": 3
   },
   "file_extension": ".py",
   "mimetype": "text/x-python",
   "name": "python",
   "nbconvert_exporter": "python",
   "pygments_lexer": "ipython3",
   "version": "3.8.3"
  }
 },
 "nbformat": 4,
 "nbformat_minor": 4
}
