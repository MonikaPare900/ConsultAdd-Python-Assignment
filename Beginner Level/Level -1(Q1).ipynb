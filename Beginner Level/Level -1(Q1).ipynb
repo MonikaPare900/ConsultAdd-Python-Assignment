{
 "cells": [
  {
   "cell_type": "markdown",
   "metadata": {},
   "source": [
    "1. Write a program in Python to perform the following operation:\n",
    "   If a number is divisible by 3 it should print “Consultadd” as astring\n",
    "   If a number is divisible by 5 it should print “Python Training” asa string\n",
    "   If a number is divisible by both 3 and 5 \n",
    "   it should print“Consultadd - Python Training” string."
   ]
  },
  {
   "cell_type": "code",
   "execution_count": 9,
   "metadata": {},
   "outputs": [
    {
     "name": "stdout",
     "output_type": "stream",
     "text": [
      "error\n"
     ]
    },
    {
     "data": {
      "text/plain": [
       "'function worked'"
      ]
     },
     "execution_count": 9,
     "metadata": {},
     "output_type": "execute_result"
    }
   ],
   "source": [
    "# Problem 1\n",
    "number = 23\n",
    "def divfunc(number):\n",
    "    if number%3 == 0 and number % 5 == 0:\n",
    "        \n",
    "        print(\"Consultadd- Python Traning\")\n",
    "        \n",
    "    elif number % 5 ==0:\n",
    "        \n",
    "        print(\"Python Training\")\n",
    "        \n",
    "    elif number %3==0:\n",
    "        \n",
    "        print(\"Consultadd\")\n",
    "        \n",
    "    else:\n",
    "        print(\"error\")\n",
    "        \n",
    "    return (\"function worked\")\n",
    "\n",
    "divfunc(number)\n",
    "   \n",
    "\n",
    "        \n",
    "    \n",
    "    \n",
    "    "
   ]
  },
  {
   "cell_type": "code",
   "execution_count": 15,
   "metadata": {},
   "outputs": [
    {
     "name": "stdout",
     "output_type": "stream",
     "text": [
      "Enter a string: hello123\n",
      "Alphabets:5 Number:3.\n"
     ]
    }
   ],
   "source": [
    "#Problem 2\n",
    "S = input(\"Enter a string: \")\n",
    "alphabets = 0\n",
    "Number= 0\n",
    "def fun_count(str):\n",
    "    alphabets =0\n",
    "    Number=0\n",
    "    for i in range(len(S)):\n",
    "        if S[i].isalpha():\n",
    "            \n",
    "            alphabets+=1\n",
    "        else:\n",
    "            Number+=1\n",
    "    print(f\"Alphabets:{alphabets} Number:{Number}\")\n",
    "fun_count(str)"
   ]
  },
  {
   "cell_type": "code",
   "execution_count": 16,
   "metadata": {},
   "outputs": [],
   "source": [
    "\n"
   ]
  },
  {
   "cell_type": "code",
   "execution_count": null,
   "metadata": {},
   "outputs": [],
   "source": []
  }
 ],
 "metadata": {
  "kernelspec": {
   "display_name": "Python 3",
   "language": "python",
   "name": "python3"
  },
  "language_info": {
   "codemirror_mode": {
    "name": "ipython",
    "version": 3
   },
   "file_extension": ".py",
   "mimetype": "text/x-python",
   "name": "python",
   "nbconvert_exporter": "python",
   "pygments_lexer": "ipython3",
   "version": "3.8.3"
  }
 },
 "nbformat": 4,
 "nbformat_minor": 4
}
