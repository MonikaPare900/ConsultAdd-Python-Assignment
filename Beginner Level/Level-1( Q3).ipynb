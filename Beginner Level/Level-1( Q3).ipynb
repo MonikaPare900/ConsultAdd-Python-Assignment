{
 "cells": [
  {
   "cell_type": "markdown",
   "metadata": {},
   "source": [
    "3. Write a Python program to input marks for five subjects Physics,\n",
    "   Chemistry, Biology, Mathematics, and Computer. Calculate the\n",
    "   percentage and grade according to the following:\n",
    "   Percentage >= 90% : Grade A\n",
    "   Percentage >= 80% : Grade B\n",
    "   Percentage >= 70% : Grade C\n",
    "   Percentage >= 60% : Grade D\n",
    "   Percentage >= 40% : Grade E\n",
    "   Percentage < 40% : Grade F"
   ]
  },
  {
   "cell_type": "code",
   "execution_count": 2,
   "metadata": {},
   "outputs": [
    {
     "name": "stdout",
     "output_type": "stream",
     "text": [
      "Enter an integer value: 67\n",
      "Enter an integer value: 90\n",
      "Enter an integer value: 78\n",
      "Enter an integer value: 56\n",
      "Enter an integer value: 89\n",
      "76.0\n",
      "Grade C\n",
      "Grade D\n",
      "Grade E\n"
     ]
    }
   ],
   "source": [
    "\n",
    "\n",
    "Phy = int(input(\"Enter an integer value: \"))\n",
    "Chem  = int(input(\"Enter an integer value: \"))\n",
    "Bio = int(input(\"Enter an integer value: \"))\n",
    "Math = int(input(\"Enter an integer value: \"))\n",
    "Comp = int(input(\"Enter an integer value: \"))\n",
    "def CalPercentage(Phy,Chem,Bio,Math,Comp):\n",
    "        total = Phy+Chem+Bio+Math+Comp\n",
    "        Percentage = (total*100)/500\n",
    "        print(Percentage)\n",
    "        if Percentage>= 90:\n",
    "            print(\"Grade A\")\n",
    "        if Percentage>= 80:\n",
    "            print(\"Grade B\") \n",
    "        if Percentage>= 70:\n",
    "            print(\"Grade C\")\n",
    "        if Percentage>= 60:\n",
    "            print(\"Grade D\")\n",
    "        if Percentage>= 40:\n",
    "            print(\"Grade E\")\n",
    "        if Percentage < 40:\n",
    "            print(\"Grade F\")\n",
    "        \n",
    "CalPercentage(Phy,Chem,Bio,Math,Comp)\n"
   ]
  },
  {
   "cell_type": "code",
   "execution_count": null,
   "metadata": {},
   "outputs": [],
   "source": []
  }
 ],
 "metadata": {
  "kernelspec": {
   "display_name": "Python 3",
   "language": "python",
   "name": "python3"
  },
  "language_info": {
   "codemirror_mode": {
    "name": "ipython",
    "version": 3
   },
   "file_extension": ".py",
   "mimetype": "text/x-python",
   "name": "python",
   "nbconvert_exporter": "python",
   "pygments_lexer": "ipython3",
   "version": "3.8.3"
  }
 },
 "nbformat": 4,
 "nbformat_minor": 4
}
