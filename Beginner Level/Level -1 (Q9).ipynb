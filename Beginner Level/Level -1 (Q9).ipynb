{
 "cells": [
  {
   "cell_type": "code",
   "execution_count": 19,
   "metadata": {},
   "outputs": [
    {
     "name": "stdout",
     "output_type": "stream",
     "text": [
      "Enter integers separated by spaces: 2 3 2 \n",
      "{2: 2, 3: 1}\n"
     ]
    }
   ],
   "source": [
    "#CountFrequency\n",
    "Nums = input(\"Enter integers separated by spaces: \")\n",
    "Num_list = list(map(int, Nums.split()))\n",
    "\n",
    "def countfreq(Num_list):\n",
    "    F={}\n",
    "    for item in Num_list:\n",
    "        #print(item)\n",
    "        if item in F:\n",
    "            F[item]+=1\n",
    "        else :\n",
    "            F[item]=1\n",
    "    print(F)\n",
    "countfreq(Num_list)"
   ]
  },
  {
   "cell_type": "code",
   "execution_count": null,
   "metadata": {},
   "outputs": [],
   "source": []
  },
  {
   "cell_type": "code",
   "execution_count": null,
   "metadata": {},
   "outputs": [],
   "source": []
  },
  {
   "cell_type": "code",
   "execution_count": null,
   "metadata": {},
   "outputs": [],
   "source": []
  }
 ],
 "metadata": {
  "kernelspec": {
   "display_name": "Python 3",
   "language": "python",
   "name": "python3"
  },
  "language_info": {
   "codemirror_mode": {
    "name": "ipython",
    "version": 3
   },
   "file_extension": ".py",
   "mimetype": "text/x-python",
   "name": "python",
   "nbconvert_exporter": "python",
   "pygments_lexer": "ipython3",
   "version": "3.8.3"
  }
 },
 "nbformat": 4,
 "nbformat_minor": 4
}
