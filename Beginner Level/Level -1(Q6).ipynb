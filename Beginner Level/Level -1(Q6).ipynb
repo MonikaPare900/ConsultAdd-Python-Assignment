{
 "cells": [
  {
   "cell_type": "code",
   "execution_count": 13,
   "metadata": {},
   "outputs": [
    {
     "name": "stdout",
     "output_type": "stream",
     "text": [
      "Enter an integer value: 7\n",
      "1\n",
      "8\n",
      "Its not the perfect one\n"
     ]
    }
   ],
   "source": [
    "#PerfectNumber\n",
    "N=int(input(\"Enter an integer value: \"))\n",
    "def perfectno(N):\n",
    "    Sum = 0\n",
    "    for i in range(1,N+1):\n",
    "        if N%i == 0:\n",
    "            Sum +=i\n",
    "            print(Sum)\n",
    "    if Sum == N:\n",
    "        \n",
    "        print(F\"{N} is a perfect number\")\n",
    "        #print(i)\n",
    "    else:\n",
    "        print(\"Its not the perfect one\")\n",
    "perfectno(N)"
   ]
  },
  {
   "cell_type": "code",
   "execution_count": 11,
   "metadata": {},
   "outputs": [
    {
     "name": "stdout",
     "output_type": "stream",
     "text": [
      "Enter an integer value: 6\n",
      "6 is perfect Number\n"
     ]
    }
   ],
   "source": [
    "N=int(input(\"Enter an integer value: \"))\n",
    "def perfectno(N):\n",
    "    sumofdivisor=0\n",
    "    for i in range(1,N):\n",
    "        #print(i)\n",
    "        if N%i==0:\n",
    "            #print(i)\n",
    "            sumofdivisor+=i\n",
    "            #print(sumofdivisor)\n",
    "    if sumofdivisor == N:\n",
    "        print(f\"{N} is perfect Number\")\n",
    "              \n",
    "    else:\n",
    "        print(f\"{N} is not a perfect Number\")\n",
    "              \n",
    "              \n",
    "              \n",
    "        \n",
    "perfectno(N)\n"
   ]
  },
  {
   "cell_type": "code",
   "execution_count": null,
   "metadata": {},
   "outputs": [],
   "source": []
  }
 ],
 "metadata": {
  "kernelspec": {
   "display_name": "Python 3",
   "language": "python",
   "name": "python3"
  },
  "language_info": {
   "codemirror_mode": {
    "name": "ipython",
    "version": 3
   },
   "file_extension": ".py",
   "mimetype": "text/x-python",
   "name": "python",
   "nbconvert_exporter": "python",
   "pygments_lexer": "ipython3",
   "version": "3.8.3"
  }
 },
 "nbformat": 4,
 "nbformat_minor": 4
}
