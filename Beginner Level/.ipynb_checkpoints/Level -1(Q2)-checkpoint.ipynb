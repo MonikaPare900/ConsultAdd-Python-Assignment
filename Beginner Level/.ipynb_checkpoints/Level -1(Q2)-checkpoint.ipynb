{
 "cells": [
  {
   "cell_type": "markdown",
   "metadata": {},
   "source": [
    "2. Write a program that accepts a string as input from the user andcalculates the number of  digits and letters.\n",
    "    Input: Hello123\n",
    "    Output: Alphabets: 5 & Number : 3\n",
    "    "
   ]
  },
  {
   "cell_type": "code",
   "execution_count": null,
   "metadata": {},
   "outputs": [],
   "source": [
    "#Problem 2\n",
    "S = input(\"Enter a string: \")\n",
    "alphabets = 0\n",
    "Number= 0\n",
    "def fun_count(str):\n",
    "    alphabets =0\n",
    "    Number=0\n",
    "    for i in range(len(S)):\n",
    "        if S[i].isalpha():\n",
    "            \n",
    "            alphabets+=1\n",
    "        else:\n",
    "            Number+=1\n",
    "    print(f\"Alphabets:{alphabets} Number:{Number}\")\n",
    "fun_count(str)"
   ]
  }
 ],
 "metadata": {
  "kernelspec": {
   "display_name": "Python 3",
   "language": "python",
   "name": "python3"
  },
  "language_info": {
   "codemirror_mode": {
    "name": "ipython",
    "version": 3
   },
   "file_extension": ".py",
   "mimetype": "text/x-python",
   "name": "python",
   "nbconvert_exporter": "python",
   "pygments_lexer": "ipython3",
   "version": "3.8.3"
  }
 },
 "nbformat": 4,
 "nbformat_minor": 4
}
