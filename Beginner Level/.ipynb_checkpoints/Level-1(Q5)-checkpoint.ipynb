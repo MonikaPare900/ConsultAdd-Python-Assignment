{
 "cells": [
  {
   "cell_type": "markdown",
   "metadata": {},
   "source": [
    "5. Write a Python program to find the factorial of a number using a\n",
    "   for loop."
   ]
  },
  {
   "cell_type": "code",
   "execution_count": 21,
   "metadata": {},
   "outputs": [
    {
     "name": "stdout",
     "output_type": "stream",
     "text": [
      "5\n",
      "Factorial of 5 is 1\n",
      "Factorial of 5 is 2\n",
      "Factorial of 5 is 6\n",
      "Factorial of 5 is 24\n",
      "Factorial of 5 is 120\n"
     ]
    },
    {
     "data": {
      "text/plain": [
       "120"
      ]
     },
     "execution_count": 21,
     "metadata": {},
     "output_type": "execute_result"
    }
   ],
   "source": [
    "n = int(input())\n",
    "\n",
    "def factoral(n):\n",
    "    factorial = 1\n",
    "    \n",
    "    if n == 0:\n",
    "        print(\"Factorial of 0 is 1\")\n",
    "    else:\n",
    "        for i in range(1,n+1):\n",
    "            factorial = factorial * i\n",
    "            \n",
    "            \n",
    "            print(f\"Factorial of {n} is {factorial}\")\n",
    "    return(factorial)\n",
    "       \n",
    "\n",
    "factoral(n)"
   ]
  },
  {
   "cell_type": "code",
   "execution_count": null,
   "metadata": {},
   "outputs": [],
   "source": []
  }
 ],
 "metadata": {
  "kernelspec": {
   "display_name": "Python 3",
   "language": "python",
   "name": "python3"
  },
  "language_info": {
   "codemirror_mode": {
    "name": "ipython",
    "version": 3
   },
   "file_extension": ".py",
   "mimetype": "text/x-python",
   "name": "python",
   "nbconvert_exporter": "python",
   "pygments_lexer": "ipython3",
   "version": "3.8.3"
  }
 },
 "nbformat": 4,
 "nbformat_minor": 4
}
