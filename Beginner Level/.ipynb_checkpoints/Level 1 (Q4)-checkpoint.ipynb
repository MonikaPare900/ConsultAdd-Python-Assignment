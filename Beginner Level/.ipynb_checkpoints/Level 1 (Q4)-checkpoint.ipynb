{
 "cells": [
  {
   "cell_type": "markdown",
   "metadata": {},
   "source": [
    "4. Write a Python program to find the sum of all odd numbers\n",
    "    between two given numbers.\n",
    "    Start = 1, stop = 10\n",
    "    Sum of odd numbers: 25"
   ]
  },
  {
   "cell_type": "code",
   "execution_count": 14,
   "metadata": {},
   "outputs": [
    {
     "name": "stdout",
     "output_type": "stream",
     "text": [
      "Enter an integer value: 1\n",
      "Enter an integer value: 10\n",
      "Sum of odd numbers : 25\n"
     ]
    }
   ],
   "source": [
    "Start = int(input(\"Enter an integer value: \"))\n",
    "Stop = int(input(\"Enter an integer value: \"))\n",
    "\n",
    "def count_odd(Start , Stop):\n",
    "    \n",
    "    Sum = 0\n",
    "   \n",
    "    for number in range(Start ,Stop+1):\n",
    "        \n",
    "        if number % 2 !=0:int(input(\"Enter an integer value: \"))\n",
    "            Sum+=number\n",
    "    print(f\"Sum of odd numbers : {Sum}\")\n",
    "        \n",
    "count_odd(Start , Stop)"
   ]
  },
  {
   "cell_type": "code",
   "execution_count": null,
   "metadata": {},
   "outputs": [],
   "source": []
  }
 ],
 "metadata": {
  "kernelspec": {
   "display_name": "Python 3",
   "language": "python",
   "name": "python3"
  },
  "language_info": {
   "codemirror_mode": {
    "name": "ipython",
    "version": 3
   },
   "file_extension": ".py",
   "mimetype": "text/x-python",
   "name": "python",
   "nbconvert_exporter": "python",
   "pygments_lexer": "ipython3",
   "version": "3.8.3"
  }
 },
 "nbformat": 4,
 "nbformat_minor": 4
}
