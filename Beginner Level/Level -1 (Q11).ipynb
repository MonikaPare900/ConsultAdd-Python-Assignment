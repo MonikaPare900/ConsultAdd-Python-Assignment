{
 "cells": [
  {
   "cell_type": "code",
   "execution_count": 2,
   "metadata": {},
   "outputs": [
    {
     "name": "stdout",
     "output_type": "stream",
     "text": [
      "345\n",
      "34\n",
      "5\n",
      "3\n",
      "9\n",
      "0\n",
      "12\n",
      "1\n",
      "2\n",
      "0\n",
      "3\n"
     ]
    }
   ],
   "source": [
    "#Sum of the digits\n",
    "num = int(input())\n",
    "sum=0\n",
    "def sumofdigit(num,sum):\n",
    "    while num>0 or sum>9:\n",
    "        if num==0:\n",
    "           \n",
    "            num=sum\n",
    "            sum=0\n",
    "        sum+=num%10\n",
    "        num//=10\n",
    "        print(num)\n",
    "        print(sum)\n",
    "        \n",
    "sumofdigit(num,sum)        "
   ]
  },
  {
   "cell_type": "code",
   "execution_count": null,
   "metadata": {},
   "outputs": [],
   "source": []
  }
 ],
 "metadata": {
  "kernelspec": {
   "display_name": "Python 3",
   "language": "python",
   "name": "python3"
  },
  "language_info": {
   "codemirror_mode": {
    "name": "ipython",
    "version": 3
   },
   "file_extension": ".py",
   "mimetype": "text/x-python",
   "name": "python",
   "nbconvert_exporter": "python",
   "pygments_lexer": "ipython3",
   "version": "3.8.3"
  }
 },
 "nbformat": 4,
 "nbformat_minor": 4
}
