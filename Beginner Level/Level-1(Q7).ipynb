{
 "cells": [
  {
   "cell_type": "code",
   "execution_count": 36,
   "metadata": {},
   "outputs": [
    {
     "name": "stdout",
     "output_type": "stream",
     "text": [
      "Enter an integer value: advise\n",
      "Enter an integer value: advice\n",
      "False\n"
     ]
    }
   ],
   "source": [
    "str1 = str(input(\"Enter an integer value: \"))\n",
    "str2 = str(input(\"Enter an integer value: \"))\n",
    "def anagram(str1,str2):\n",
    "    if len(str2) == len(str2):\n",
    "        L1,L2=str1.lower(),str2.lower()\n",
    "        if sorted(L1) == sorted(L2):\n",
    "            print(\"True\")\n",
    "        else:\n",
    "             print(\"False\")\n",
    "            \n",
    "            \n",
    "anagram(str1,str2)"
   ]
  },
  {
   "cell_type": "code",
   "execution_count": null,
   "metadata": {},
   "outputs": [],
   "source": []
  },
  {
   "cell_type": "code",
   "execution_count": null,
   "metadata": {},
   "outputs": [],
   "source": []
  }
 ],
 "metadata": {
  "kernelspec": {
   "display_name": "Python 3",
   "language": "python",
   "name": "python3"
  },
  "language_info": {
   "codemirror_mode": {
    "name": "ipython",
    "version": 3
   },
   "file_extension": ".py",
   "mimetype": "text/x-python",
   "name": "python",
   "nbconvert_exporter": "python",
   "pygments_lexer": "ipython3",
   "version": "3.8.3"
  }
 },
 "nbformat": 4,
 "nbformat_minor": 4
}
