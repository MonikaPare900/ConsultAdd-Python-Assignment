{
 "cells": [
  {
   "cell_type": "markdown",
   "id": "fbbc0b4d-dd32-4c45-bcc3-9dd5e2d7c700",
   "metadata": {},
   "source": [
    "6.Write a program to construct a dictionary from the two lists\n",
    "containing the names of students and their corresponding\n",
    "subjects. The dictionary should map the students with their\n",
    "respective subjects. Let’s see how to do this using for loops and\n",
    "dictionary comprehension.\n",
    "Input: [Sam, Alice, Mona] ,\n",
    "[Commerce, Science, Computer]\n",
    "Output: [Sam: Commerce, Alice: Science , Mona: Computer]"
   ]
  },
  {
   "cell_type": "code",
   "execution_count": 3,
   "id": "93a77a61-48c2-4412-b6db-9e07ce7f0aa6",
   "metadata": {},
   "outputs": [
    {
     "name": "stdin",
     "output_type": "stream",
     "text": [
      "Enter the names of students, separated by spaces:  Sam alice Mona\n",
      "Enter the names of students, separated by spaces:  Comm Sci Comp\n"
     ]
    },
    {
     "name": "stdout",
     "output_type": "stream",
     "text": [
      "{'Sam': 'Comm', 'alice': 'Sci', 'Mona': 'Comp'}\n"
     ]
    }
   ],
   "source": [
    "students_input = input(\"Enter the names of students, separated by spaces: \")\n",
    "students = students_input.split()\n",
    "Subject_input = input(\"Enter the names of subjects, separated by spaces: \")\n",
    "subjects= Subject_input.split()\n",
    "Output = {}\n",
    "for i in range(len(students)):\n",
    "    Output[students[i]] = subjects[i]\n",
    "print(Output)\n",
    "    "
   ]
  },
  {
   "cell_type": "code",
   "execution_count": null,
   "id": "9f2ee192-5dc5-40cd-adac-9148077e8556",
   "metadata": {},
   "outputs": [],
   "source": []
  }
 ],
 "metadata": {
  "kernelspec": {
   "display_name": "Python 3 (ipykernel)",
   "language": "python",
   "name": "python3"
  },
  "language_info": {
   "codemirror_mode": {
    "name": "ipython",
    "version": 3
   },
   "file_extension": ".py",
   "mimetype": "text/x-python",
   "name": "python",
   "nbconvert_exporter": "python",
   "pygments_lexer": "ipython3",
   "version": "3.12.4"
  }
 },
 "nbformat": 4,
 "nbformat_minor": 5
}
