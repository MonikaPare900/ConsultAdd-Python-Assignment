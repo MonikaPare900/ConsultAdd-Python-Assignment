{
 "cells": [
  {
   "cell_type": "markdown",
   "metadata": {},
   "source": [
    "3. Aditi has used text editing software to type some text. After\n",
    "   saving the article as words.txt, she realized that she had wrongly\n",
    "   typed the alphabet “J\" instead of “I\" everywhere in the article.\n",
    "   Write a function definition for JtoI() in Python that would display\n",
    "   the corrected version of the entire content of the file WORDS.TXT\n",
    "   with all the alphabet \"J\" to be displayed as an alphabet \"I\" on the\n",
    "   screen.\n",
    "   Note: Assume that words.txt does not contain any J alphabet\n",
    "   otherwise.\n"
   ]
  },
  {
   "cell_type": "code",
   "execution_count": 1,
   "metadata": {},
   "outputs": [
    {
     "name": "stdout",
     "output_type": "stream",
     "text": [
      "Iumping is fun.\n",
      "DIango is a Framework.\n"
     ]
    }
   ],
   "source": [
    "def JtoI():\n",
    "    try:\n",
    "        with open(\"words.txt\", \"r\") as file:\n",
    "            \n",
    "            content = file.read()\n",
    "        Result = content.replace(\"J\",\"I\")\n",
    "        print(Result)\n",
    "    except:\n",
    "        \n",
    "        print(\"Error\")\n",
    "JtoI()\n",
    "    \n",
    "   "
   ]
  },
  {
   "cell_type": "code",
   "execution_count": null,
   "metadata": {},
   "outputs": [],
   "source": [
    "\n",
    "   "
   ]
  },
  {
   "cell_type": "code",
   "execution_count": null,
   "metadata": {},
   "outputs": [],
   "source": []
  }
 ],
 "metadata": {
  "kernelspec": {
   "display_name": "Python 3",
   "language": "python",
   "name": "python3"
  },
  "language_info": {
   "codemirror_mode": {
    "name": "ipython",
    "version": 3
   },
   "file_extension": ".py",
   "mimetype": "text/x-python",
   "name": "python",
   "nbconvert_exporter": "python",
   "pygments_lexer": "ipython3",
   "version": "3.8.3"
  }
 },
 "nbformat": 4,
 "nbformat_minor": 4
}
