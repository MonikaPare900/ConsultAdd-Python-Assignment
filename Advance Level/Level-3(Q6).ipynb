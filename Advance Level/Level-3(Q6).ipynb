{
 "cells": [
  {
   "cell_type": "code",
   "execution_count": 27,
   "id": "fb4ea39b-a447-4d00-a83a-2c430475824e",
   "metadata": {},
   "outputs": [
    {
     "name": "stdout",
     "output_type": "stream",
     "text": [
      "I am a QA\n",
      "My name is Raja\n"
     ]
    }
   ],
   "source": [
    "class emp:\n",
    "    raise_amt = 1.04\n",
    "    def __init__(self,First,Last,Pay):\n",
    "        self.First = First\n",
    "        self.Last = Last\n",
    "        self.Pay = Pay\n",
    "    def fullname(self):\n",
    "        return f\"{self.First} {self.Last}\"\n",
    "    def apply_raise(self):\n",
    "        \n",
    "        self.pay=int(self.Pay * self.raise_amt )\n",
    "        return self.pay\n",
    "class Dev(emp):\n",
    "    def __init__(self,First,Last,Pay,Level):\n",
    "        super().__init__(First,Last,Pay)\n",
    "        self.Level = Level\n",
    "    def email(self):\n",
    "        return f\"{self.name}{self.Last} @ gmail.com\"\n",
    "        \n",
    "class Eng():\n",
    "    def __init__(self):\n",
    "        \n",
    "        #self.Name = Name\n",
    "        print(f\" Hi ! I work as an Engineer\")\n",
    "        #emp.__init__(self)\n",
    "        #Dev.__init__(self)\n",
    "class QA(emp,Eng):\n",
    "    def __init__(self,First,Last,Pay,):\n",
    "        \n",
    "        print(\"I am a QA\")\n",
    "        super(QA,self).__init__(First=First,Last=Last,Pay=Pay)\n",
    "        \n",
    "    def Name(self):\n",
    "        print(f\"My name is {self.First}\")\n",
    "        \n",
    "        \n",
    "        \n",
    "q1 = QA('Raja','Sharma',70000) \n",
    "q1.Name()\n",
    "\n",
    "    \n",
    "    \n",
    "    \n",
    "        \n",
    "# eng1 = Eng('Raja','Sharma',70000,1)\n",
    "# eng2 = Eng('Rash','Gupta',90000,2)\n",
    "\n",
    "\n",
    "# print(eng1.Level)\n",
    "# eng1.apply_raise()\n",
    "# print(eng1.apply_raise())\n",
    "\n",
    "\n",
    "\n",
    "# print(dev2.Level)\n",
    "# dev2.apply_raise()\n",
    "# print(dev2.apply_raise())\n",
    "\n",
    "    \n",
    "    \n",
    "  \n",
    "    \n",
    "    \n",
    "                    "
   ]
  },
  {
   "cell_type": "code",
   "execution_count": null,
   "id": "d76873aa-b46c-4622-bcdf-3eb1e4b54b12",
   "metadata": {},
   "outputs": [],
   "source": []
  }
 ],
 "metadata": {
  "kernelspec": {
   "display_name": "Python 3 (ipykernel)",
   "language": "python",
   "name": "python3"
  },
  "language_info": {
   "codemirror_mode": {
    "name": "ipython",
    "version": 3
   },
   "file_extension": ".py",
   "mimetype": "text/x-python",
   "name": "python",
   "nbconvert_exporter": "python",
   "pygments_lexer": "ipython3",
   "version": "3.12.4"
  }
 },
 "nbformat": 4,
 "nbformat_minor": 5
}
