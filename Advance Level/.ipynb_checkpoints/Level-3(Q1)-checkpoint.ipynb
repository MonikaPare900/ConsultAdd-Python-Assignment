{
 "cells": [
  {
   "cell_type": "markdown",
   "metadata": {},
   "source": [
    " 1. Read the doc.txt file using Python File handling concept and\n",
    "    return only the even length string from the file. Consider the\n",
    "    content of doc.txt as given below:\n",
    "    Hello I am a file\n",
    "    Where you need to return the data string which is of even length.\n",
    "    Make sure you return the content in The same link as it is present.\n",
    "\n"
   ]
  },
  {
   "cell_type": "code",
   "execution_count": 1,
   "metadata": {},
   "outputs": [
    {
     "name": "stdout",
     "output_type": "stream",
     "text": [
      "am file\n",
      "My name is\n"
     ]
    }
   ],
   "source": [
    "with open('doc.txt', 'r') as file:\n",
    "    content = file.readlines()\n",
    "    \n",
    "def read_a_letter(L1):\n",
    "    \n",
    "    words = L1.split()\n",
    "    #print(words)\n",
    "    even_words = []\n",
    "    for word in words:\n",
    "        \n",
    "    \n",
    "        if len(word)%2 == 0:\n",
    "            \n",
    "            even_words.append(word)\n",
    "            \n",
    "    #print(even_words)\n",
    "    result = ' '.join(even_words)\n",
    "    print(result)\n",
    "    #return result \n",
    "        \n",
    "            \n",
    "        \n",
    "    \n",
    "#read_a_letter(L1)      \n",
    "    \n",
    "    \n",
    "    \n",
    "    \n",
    "    \n",
    "    \n",
    "    \n",
    "for L1 in content:\n",
    "    read_a_letter(L1)\n",
    "    \n",
    "    \n",
    "\n",
    "    \n"
   ]
  },
  {
   "cell_type": "code",
   "execution_count": null,
   "metadata": {},
   "outputs": [],
   "source": []
  }
 ],
 "metadata": {
  "kernelspec": {
   "display_name": "Python 3",
   "language": "python",
   "name": "python3"
  },
  "language_info": {
   "codemirror_mode": {
    "name": "ipython",
    "version": 3
   },
   "file_extension": ".py",
   "mimetype": "text/x-python",
   "name": "python",
   "nbconvert_exporter": "python",
   "pygments_lexer": "ipython3",
   "version": "3.8.3"
  }
 },
 "nbformat": 4,
 "nbformat_minor": 4
}
