{
 "cells": [
  {
   "cell_type": "markdown",
   "metadata": {},
   "source": [
    "5. Create a class 'Time' and initialize it with hours and minutes.\n",
    "    Create a method addTime() which should take two Time objects\n",
    "    and add them.\n",
    "    E.g.- (2 hour and 50 min)+(1 hr and 20 min) is (4 hr and 10 min)\n",
    "    Create another method displayTime() which should print the time.\n",
    "    Also, create a method displayMinute() which should display the\n",
    "    total minutes in the Time.\n",
    "    E.g.- (1 hr 2 min) should display 62 minutes.\n"
   ]
  },
  {
   "cell_type": "code",
   "execution_count": 14,
   "metadata": {},
   "outputs": [
    {
     "name": "stdout",
     "output_type": "stream",
     "text": [
      "2 hr and 50 min\n",
      "Total minutes: 170 mins\n",
      "1 hr and 20 min\n",
      "Total minutes: 80 mins\n"
     ]
    }
   ],
   "source": [
    "class time:\n",
    "    def __init__(self,hours,minutes):\n",
    "        \n",
    "        self.hours = hours\n",
    "        self.minutes = minutes\n",
    "        \n",
    "    def addtime(self,Second):\n",
    "        total_hours = self.hours + Second.hours\n",
    "        total_minutes = self.minutes +Second.minutes\n",
    "        \n",
    "        Extra_Hrs = total_minutes // 60\n",
    "        Remaining_mins = total_minutes % 60\n",
    "        \n",
    "        Final_Hours = total_hours + Extra_Hrs\n",
    "        return time(Final_Hours,Remaining_mins)\n",
    "    \n",
    "    def displayTime(self):\n",
    "        print(f\"{self.hours} hr and {self.minutes} min\")\n",
    "        \n",
    "    def displayMinute(self):\n",
    "        Minutes = self.hours*60 + self.minutes\n",
    "        print(f\"Total minutes: {Minutes} mins\")\n",
    "    \n",
    "        \n",
    "        \n",
    "    \n",
    "    \n",
    "time1 = time(2, 50)\n",
    "time1.displayTime()\n",
    "time1.displayMinute()\n",
    "\n",
    "time2 = time(1, 20)\n",
    "time2.displayTime()\n",
    "time2.displayMinute()\n",
    "\n",
    "        "
   ]
  },
  {
   "cell_type": "code",
   "execution_count": null,
   "metadata": {},
   "outputs": [],
   "source": []
  }
 ],
 "metadata": {
  "kernelspec": {
   "display_name": "Python 3",
   "language": "python",
   "name": "python3"
  },
  "language_info": {
   "codemirror_mode": {
    "name": "ipython",
    "version": 3
   },
   "file_extension": ".py",
   "mimetype": "text/x-python",
   "name": "python",
   "nbconvert_exporter": "python",
   "pygments_lexer": "ipython3",
   "version": "3.8.3"
  }
 },
 "nbformat": 4,
 "nbformat_minor": 4
}
