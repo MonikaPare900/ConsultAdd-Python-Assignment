{
 "cells": [
  {
   "cell_type": "code",
   "execution_count": 19,
   "metadata": {},
   "outputs": [
    {
     "name": "stdout",
     "output_type": "stream",
     "text": [
      "Enter username: monika\n",
      "Enter pass: paaj\n",
      "Enter re_pass: pare\n",
      "2\n",
      "password doesn't match .Please re enter the password\n",
      "Enter re_pass: paaj\n",
      "you have successfully logged in\n"
     ]
    }
   ],
   "source": [
    "def login():\n",
    "    \n",
    "    username = input(\"Enter username: \")\n",
    "    password = input(\"Enter pass: \")\n",
    "   \n",
    "    \n",
    "    \n",
    "    attempts = 3\n",
    "    while attempts>0:\n",
    "        \n",
    "        retype_password = input(\"Enter re_pass: \")\n",
    "        \n",
    "        \n",
    "        if password == retype_password:\n",
    "            print(\"you have successfully logged in\")\n",
    "            return\n",
    "        else:\n",
    "            \n",
    "            attempts-=1\n",
    "            print(attempts)\n",
    "            if attempts>0:\n",
    "                print(\"password doesn't match .Please re enter the password\")\n",
    "            else:\n",
    "                print(\"Access Denied\")\n",
    "                return\n",
    "            \n",
    "            \n",
    "            \n",
    "            \n",
    "      \n",
    "    \n",
    "login()\n"
   ]
  },
  {
   "cell_type": "code",
   "execution_count": null,
   "metadata": {},
   "outputs": [],
   "source": []
  },
  {
   "cell_type": "code",
   "execution_count": null,
   "metadata": {},
   "outputs": [],
   "source": []
  }
 ],
 "metadata": {
  "kernelspec": {
   "display_name": "Python 3",
   "language": "python",
   "name": "python3"
  },
  "language_info": {
   "codemirror_mode": {
    "name": "ipython",
    "version": 3
   },
   "file_extension": ".py",
   "mimetype": "text/x-python",
   "name": "python",
   "nbconvert_exporter": "python",
   "pygments_lexer": "ipython3",
   "version": "3.8.3"
  }
 },
 "nbformat": 4,
 "nbformat_minor": 4
}
