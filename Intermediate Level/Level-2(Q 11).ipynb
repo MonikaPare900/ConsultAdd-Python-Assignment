{
 "cells": [
  {
   "cell_type": "code",
   "execution_count": null,
   "metadata": {},
   "outputs": [],
   "source": []
  },
  {
   "cell_type": "code",
   "execution_count": 11,
   "metadata": {},
   "outputs": [
    {
     "name": "stdout",
     "output_type": "stream",
     "text": [
      "Enter integers separated by spaces: hi dev\n",
      "['h']\n",
      "['h', 'i']\n",
      "[['h', 'i']]\n",
      "['d']\n",
      "['d', 'e']\n",
      "['d', 'e', 'v']\n",
      "[['h', 'i'], ['d', 'e', 'v']]\n"
     ]
    },
    {
     "data": {
      "text/plain": [
       "[['h', 'i'], ['d', 'e', 'v']]"
      ]
     },
     "execution_count": 11,
     "metadata": {},
     "output_type": "execute_result"
    }
   ],
   "source": [
    "user_input = input(\"Enter integers separated by spaces: \")\n",
    "L1 = list(map(str, user_input.split()))\n",
    "def create_list(L1):\n",
    "    L2 =[]\n",
    "    \n",
    "    for elements in L1:\n",
    "  \n",
    "        empty =[]\n",
    "        for char in elements:\n",
    "            \n",
    "        \n",
    "            empty.append(char)\n",
    "            print(empty)\n",
    "        \n",
    "        L2.append(empty)\n",
    "        print(L2)\n",
    "            \n",
    "            \n",
    "       \n",
    "       \n",
    "        \n",
    "    return L2\n",
    "       \n",
    "    \n",
    "    \n",
    "create_list(L1)"
   ]
  },
  {
   "cell_type": "code",
   "execution_count": null,
   "metadata": {},
   "outputs": [],
   "source": []
  },
  {
   "cell_type": "code",
   "execution_count": null,
   "metadata": {},
   "outputs": [],
   "source": []
  },
  {
   "cell_type": "code",
   "execution_count": null,
   "metadata": {},
   "outputs": [],
   "source": []
  },
  {
   "cell_type": "code",
   "execution_count": null,
   "metadata": {},
   "outputs": [],
   "source": []
  },
  {
   "cell_type": "code",
   "execution_count": null,
   "metadata": {},
   "outputs": [],
   "source": []
  },
  {
   "cell_type": "code",
   "execution_count": null,
   "metadata": {},
   "outputs": [],
   "source": [
    "\\"
   ]
  }
 ],
 "metadata": {
  "kernelspec": {
   "display_name": "Python 3",
   "language": "python",
   "name": "python3"
  },
  "language_info": {
   "codemirror_mode": {
    "name": "ipython",
    "version": 3
   },
   "file_extension": ".py",
   "mimetype": "text/x-python",
   "name": "python",
   "nbconvert_exporter": "python",
   "pygments_lexer": "ipython3",
   "version": "3.8.3"
  }
 },
 "nbformat": 4,
 "nbformat_minor": 4
}
