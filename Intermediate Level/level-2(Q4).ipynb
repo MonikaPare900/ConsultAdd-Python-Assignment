{
 "cells": [
  {
   "cell_type": "code",
   "execution_count": 1,
   "metadata": {},
   "outputs": [],
   "source": [
    "#Rotate an array"
   ]
  },
  {
   "cell_type": "code",
   "execution_count": 1,
   "metadata": {},
   "outputs": [
    {
     "name": "stdout",
     "output_type": "stream",
     "text": [
      "Enter integers separated by spaces: 1 2 3 4 5\n",
      "2\n"
     ]
    },
    {
     "data": {
      "text/plain": [
       "[4, 5, 1, 2, 3]"
      ]
     },
     "execution_count": 1,
     "metadata": {},
     "output_type": "execute_result"
    }
   ],
   "source": [
    "user_input1 = input(\"Enter integers separated by spaces: \")\n",
    "arr1 = list(map(int, user_input1.split()))\n",
    "d= int(input())\n",
    "def rotate_arr(arr1,d):\n",
    "    #rotated_arr = []\n",
    "    d = d % len(arr1)\n",
    "    l,r = 0 , len(arr1)-1\n",
    "    while l<r:\n",
    "        arr1[l],arr1[r]= arr1[r],arr1[l]\n",
    "        l,r = l+1 , r-1\n",
    "        \n",
    "    l,r =0,d-1\n",
    "    while l<r:\n",
    "        arr1[l],arr1[r]= arr1[r],arr1[l]\n",
    "        l,r = l+1 , r-1\n",
    "    \n",
    "    l,r =d,len(arr1)-1\n",
    "    while l<r:\n",
    "        arr1[l],arr1[r]= arr1[r],arr1[l]\n",
    "        l,r = l+1 , r-1\n",
    "    return(arr1)\n",
    "        \n",
    "rotate_arr(arr1,d)        \n",
    "      \n",
    "        \n",
    "        "
   ]
  },
  {
   "cell_type": "code",
   "execution_count": null,
   "metadata": {},
   "outputs": [],
   "source": []
  }
 ],
 "metadata": {
  "kernelspec": {
   "display_name": "Python 3",
   "language": "python",
   "name": "python3"
  },
  "language_info": {
   "codemirror_mode": {
    "name": "ipython",
    "version": 3
   },
   "file_extension": ".py",
   "mimetype": "text/x-python",
   "name": "python",
   "nbconvert_exporter": "python",
   "pygments_lexer": "ipython3",
   "version": "3.8.3"
  }
 },
 "nbformat": 4,
 "nbformat_minor": 4
}
