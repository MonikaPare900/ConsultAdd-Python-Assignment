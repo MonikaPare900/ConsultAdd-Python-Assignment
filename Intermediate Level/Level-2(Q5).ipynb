{
 "cells": [
  {
   "cell_type": "code",
   "execution_count": 20,
   "metadata": {},
   "outputs": [
    {
     "name": "stdout",
     "output_type": "stream",
     "text": [
      "Enter integers separated by spaces: 25 28 21 24 27\n",
      " maximum temperature is 28\n",
      " minimum temperature is 21\n",
      " Average temperature is 25.0\n"
     ]
    }
   ],
   "source": [
    "#Determine avg ,max and min temp\n",
    "user_input = input(\"Enter integers separated by spaces: \")\n",
    "temp_read = list(map(int, user_input.split()))\n",
    "def temp(temp_read):\n",
    "    for i in range(len(temp_read)):\n",
    "        if temp_read[i] == max(temp_read):\n",
    "            print(f\" maximum temperature is {temp_read[i]}\")\n",
    "    for j in range(len(temp_read)):\n",
    "        if temp_read[j] == min(temp_read):\n",
    "            print(f\" minimum temperature is {temp_read[j]}\")\n",
    "    sum_of_temp = 0\n",
    "    count = 0\n",
    "    for num in temp_read :\n",
    "        \n",
    "        sum_of_temp += num\n",
    "        #print(sum_of_temp)\n",
    "        count +=1\n",
    "        #print(count)\n",
    "        avg_temp = sum_of_temp/count\n",
    "    print(f\" Average temperature is {avg_temp}\")\n",
    "temp(temp_read)    "
   ]
  },
  {
   "cell_type": "code",
   "execution_count": null,
   "metadata": {},
   "outputs": [],
   "source": []
  }
 ],
 "metadata": {
  "kernelspec": {
   "display_name": "Python 3",
   "language": "python",
   "name": "python3"
  },
  "language_info": {
   "codemirror_mode": {
    "name": "ipython",
    "version": 3
   },
   "file_extension": ".py",
   "mimetype": "text/x-python",
   "name": "python",
   "nbconvert_exporter": "python",
   "pygments_lexer": "ipython3",
   "version": "3.8.3"
  }
 },
 "nbformat": 4,
 "nbformat_minor": 4
}
