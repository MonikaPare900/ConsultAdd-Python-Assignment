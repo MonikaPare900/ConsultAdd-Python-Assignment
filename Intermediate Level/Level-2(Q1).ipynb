{
 "cells": [
  {
   "cell_type": "code",
   "execution_count": 1,
   "metadata": {},
   "outputs": [],
   "source": [
    "#Common elements in the list"
   ]
  },
  {
   "cell_type": "code",
   "execution_count": 10,
   "metadata": {},
   "outputs": [
    {
     "name": "stdout",
     "output_type": "stream",
     "text": [
      "Enter integers separated by spaces: 1 2 3 4 5\n",
      "Enter integers separated by spaces: 3 4 5\n"
     ]
    },
    {
     "data": {
      "text/plain": [
       "[3, 4, 5]"
      ]
     },
     "execution_count": 10,
     "metadata": {},
     "output_type": "execute_result"
    }
   ],
   "source": [
    "user_input1 = input(\"Enter integers separated by spaces: \")\n",
    "user_input2 = input(\"Enter integers separated by spaces: \")\n",
    "l1 = list(map(int, user_input1.split()))\n",
    "l2 = list(map(int, user_input2.split()))\n",
    "def comonelmnts(l1,l2):\n",
    "    common_lst = []\n",
    "    for i in range(len(l1)):\n",
    "        for j in range(len(l2)):\n",
    "            #print(l1[i])\n",
    "            #print(l2[j])\n",
    "            \n",
    "            if l1[i] == l2[j]:\n",
    "                common_lst.append(l1[i])\n",
    "            \n",
    "            \n",
    "    return(common_lst)\n",
    "comonelmnts(l1,l2)"
   ]
  },
  {
   "cell_type": "code",
   "execution_count": null,
   "metadata": {},
   "outputs": [],
   "source": []
  }
 ],
 "metadata": {
  "kernelspec": {
   "display_name": "Python 3",
   "language": "python",
   "name": "python3"
  },
  "language_info": {
   "codemirror_mode": {
    "name": "ipython",
    "version": 3
   },
   "file_extension": ".py",
   "mimetype": "text/x-python",
   "name": "python",
   "nbconvert_exporter": "python",
   "pygments_lexer": "ipython3",
   "version": "3.8.3"
  }
 },
 "nbformat": 4,
 "nbformat_minor": 4
}
