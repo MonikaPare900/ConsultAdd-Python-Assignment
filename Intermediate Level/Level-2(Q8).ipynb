{
 "cells": [
  {
   "cell_type": "code",
   "execution_count": 3,
   "metadata": {},
   "outputs": [
    {
     "name": "stdout",
     "output_type": "stream",
     "text": [
      "Enter a sentence or words separated by spaces: Hello, World!\n"
     ]
    },
    {
     "data": {
      "text/plain": [
       "'Number of vowels :3'"
      ]
     },
     "execution_count": 3,
     "metadata": {},
     "output_type": "execute_result"
    }
   ],
   "source": [
    "#Python function to find the number of vowels\n",
    "S = input(\"Enter a sentence or words separated by spaces: \")\n",
    "S = S.lower()\n",
    "def count_vowels(S):\n",
    "    count = 0\n",
    "    for letter in S:\n",
    "        if letter =='a' or letter =='e' or letter =='i' or letter =='o' or letter =='u':\n",
    "            count+=1\n",
    "    return(f\"Number of vowels :{count}\")\n",
    "count_vowels(S)\n",
    "        \n",
    "\n"
   ]
  },
  {
   "cell_type": "code",
   "execution_count": null,
   "metadata": {},
   "outputs": [],
   "source": []
  }
 ],
 "metadata": {
  "kernelspec": {
   "display_name": "Python 3",
   "language": "python",
   "name": "python3"
  }
 },
 "nbformat": 4,
 "nbformat_minor": 4
}
