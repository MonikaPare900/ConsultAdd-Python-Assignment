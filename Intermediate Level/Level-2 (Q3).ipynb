{
 "cells": [
  {
   "cell_type": "code",
   "execution_count": 9,
   "metadata": {},
   "outputs": [
    {
     "name": "stdout",
     "output_type": "stream",
     "text": [
      "Enter integers separated by spaces: 1 2 3 4 5\n",
      "6\n",
      "2\n"
     ]
    }
   ],
   "source": [
    "#count the number of pairs whose some is equal to K\n",
    "user_input1 = input(\"Enter integers separated by spaces: \")\n",
    "l1 = list(map(int, user_input1.split()))\n",
    "k = int(input())\n",
    "def count_pairs(l1,k):\n",
    "    count = 0\n",
    "    for i in range(len(l1)):\n",
    "        #print(l1[i])\n",
    "        for j in range(i+1,len(l1)):\n",
    "            #print(l1[j])\n",
    "            if l1[i]+l1[j] == k:\n",
    "                count+=1\n",
    "    print(count)\n",
    "             \n",
    "count_pairs(l1,k)                \n",
    "             \n",
    "    \n"
   ]
  },
  {
   "cell_type": "code",
   "execution_count": null,
   "metadata": {},
   "outputs": [],
   "source": []
  }
 ],
 "metadata": {
  "kernelspec": {
   "display_name": "Python 3",
   "language": "python",
   "name": "python3"
  },
  "language_info": {
   "codemirror_mode": {
    "name": "ipython",
    "version": 3
   },
   "file_extension": ".py",
   "mimetype": "text/x-python",
   "name": "python",
   "nbconvert_exporter": "python",
   "pygments_lexer": "ipython3",
   "version": "3.8.3"
  }
 },
 "nbformat": 4,
 "nbformat_minor": 4
}
