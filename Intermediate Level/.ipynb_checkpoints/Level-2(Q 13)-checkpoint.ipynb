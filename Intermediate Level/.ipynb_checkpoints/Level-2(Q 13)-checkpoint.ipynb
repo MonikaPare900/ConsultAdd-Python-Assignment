{
 "cells": [
  {
   "cell_type": "code",
   "execution_count": 3,
   "metadata": {},
   "outputs": [
    {
     "name": "stdout",
     "output_type": "stream",
     "text": [
      "bring\n",
      "<class 'str'>h\n",
      "False\n"
     ]
    }
   ],
   "source": [
    "word = input()\n",
    "letter = input(str)\n",
    "\n",
    "starts_with_letter = lambda s, c: s.startswith(c)\n",
    "\n",
    "result = starts_with_letter(word,letter)\n",
    "print(result)\n",
    "    "
   ]
  },
  {
   "cell_type": "code",
   "execution_count": null,
   "metadata": {},
   "outputs": [],
   "source": []
  }
 ],
 "metadata": {
  "kernelspec": {
   "display_name": "Python 3",
   "language": "python",
   "name": "python3"
  },
  "language_info": {
   "codemirror_mode": {
    "name": "ipython",
    "version": 3
   },
   "file_extension": ".py",
   "mimetype": "text/x-python",
   "name": "python",
   "nbconvert_exporter": "python",
   "pygments_lexer": "ipython3",
   "version": "3.8.3"
  }
 },
 "nbformat": 4,
 "nbformat_minor": 4
}
