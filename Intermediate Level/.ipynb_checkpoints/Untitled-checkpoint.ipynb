{
 "cells": [
  {
   "cell_type": "code",
   "execution_count": 1,
   "metadata": {},
   "outputs": [
    {
     "name": "stdout",
     "output_type": "stream",
     "text": [
      "Stones in a single pile = [1, 3, 5, 7]\n"
     ]
    }
   ],
   "source": [
    "def stone_piles(n):\n",
    "    piles = []\n",
    "    \n",
    "    \n",
    "    if n % 2 == 0:\n",
    "        \n",
    "        start = 2\n",
    "    else:\n",
    "        \n",
    "        start = 1\n",
    "    \n",
    "    # Continue adding stones in increasing steps until the sum reaches or exceeds n\n",
    "    while start <= n:\n",
    "        piles.append(start)\n",
    "        start += 2  # Increment by 2 to maintain the even/odd condition\n",
    "    \n",
    "    return piles\n",
    "\n",
    "# Sample input\n",
    "n = 7\n",
    "# Function call\n",
    "result = create_stone_piles(n)\n",
    "print(f\"Stones in a single pile = {result}\")"
   ]
  },
  {
   "cell_type": "code",
   "execution_count": 26,
   "metadata": {},
   "outputs": [
    {
     "name": "stdout",
     "output_type": "stream",
     "text": [
      "Enter integers separated by spaces: hi dev\n",
      "[['hi']]\n",
      "[['hi'], ['dev']]\n",
      "[['h', 'i']]\n",
      "[['d', 'e', 'v']]\n"
     ]
    },
    {
     "data": {
      "text/plain": [
       "[['d', 'e', 'v']]"
      ]
     },
     "execution_count": 26,
     "metadata": {},
     "output_type": "execute_result"
    }
   ],
   "source": [
    "user_input = input(\"Enter integers separated by spaces: \")\n",
    "L1 = list(map(str, user_input.split()))\n",
    "def create_list(L1):\n",
    "    L2 =[]\n",
    "    \n",
    "    for elements in L1:\n",
    "        members = elements.split()\n",
    "        #print(members)\n",
    "        \n",
    "        L2.append(members)\n",
    "        print(L2)\n",
    "        empty =[]\n",
    "    for things in L2:\n",
    "        \n",
    "        for i in things:\n",
    "            \n",
    "            empty = []\n",
    "            #print(i)\n",
    "            #list1 = list(i)\n",
    "            #print(list1)\n",
    "            empty.append(list(i))\n",
    "            \n",
    "            print(empty)\n",
    "       \n",
    "       \n",
    "        \n",
    "    return empty\n",
    "       \n",
    "    \n",
    "    \n",
    "create_list(L1)"
   ]
  },
  {
   "cell_type": "code",
   "execution_count": 17,
   "metadata": {},
   "outputs": [
    {
     "name": "stdout",
     "output_type": "stream",
     "text": [
      "['d', 'e', 'v']\n"
     ]
    }
   ],
   "source": [
    "t = 'dev'\n",
    "print(list(t))"
   ]
  },
  {
   "cell_type": "code",
   "execution_count": 28,
   "metadata": {},
   "outputs": [
    {
     "name": "stdout",
     "output_type": "stream",
     "text": [
      "Original list:\n",
      "['Red', 'Blue', 'Black', 'White', 'Pink']\n",
      "\n",
      "After listify the list of strings are:\n",
      "[['R', 'e', 'd'], ['B', 'l', 'u', 'e'], ['B', 'l', 'a', 'c', 'k'], ['W', 'h', 'i', 't', 'e'], ['P', 'i', 'n', 'k']]\n"
     ]
    }
   ],
   "source": [
    "color = ['Red', 'Blue', 'Black', 'White', 'Pink']\n",
    "\t\n",
    "# Print the original list of colors\n",
    "print(\"Original list:\")\n",
    "print(color)\n",
    "\n",
    "# Print a message indicating the operation to be performed\n",
    "print(\"\\nAfter listify the list of strings are:\")\n",
    "\n",
    "# Use the map function to apply the list function to each element of 'color'\n",
    "result = list(map(list, color))\n",
    "print(result)"
   ]
  },
  {
   "cell_type": "code",
   "execution_count": 29,
   "metadata": {},
   "outputs": [
    {
     "name": "stdout",
     "output_type": "stream",
     "text": [
      "Enter integers separated by spaces: hi dev\n",
      "[['h', 'i'], ['d', 'e', 'v']]\n"
     ]
    }
   ],
   "source": [
    "user_input = input(\"Enter integers separated by spaces: \")\n",
    "L1 = list(map(str, user_input.split()))\n",
    "result = list(map(list, L1))\n",
    "print(result)"
   ]
  },
  {
   "cell_type": "code",
   "execution_count": null,
   "metadata": {},
   "outputs": [],
   "source": []
  }
 ],
 "metadata": {
  "kernelspec": {
   "display_name": "Python 3",
   "language": "python",
   "name": "python3"
  },
  "language_info": {
   "codemirror_mode": {
    "name": "ipython",
    "version": 3
   },
   "file_extension": ".py",
   "mimetype": "text/x-python",
   "name": "python",
   "nbconvert_exporter": "python",
   "pygments_lexer": "ipython3",
   "version": "3.8.3"
  }
 },
 "nbformat": 4,
 "nbformat_minor": 4
}
